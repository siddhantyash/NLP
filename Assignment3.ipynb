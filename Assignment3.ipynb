{
 "cells": [
  {
   "cell_type": "code",
   "execution_count": null,
   "metadata": {},
   "outputs": [],
   "source": [
    "#Sentimental Analysis for India China tweets"
   ]
  },
  {
   "cell_type": "code",
   "execution_count": 1,
   "metadata": {},
   "outputs": [
    {
     "name": "stdout",
     "output_type": "stream",
     "text": [
      "Requirement already satisfied: GetOldTweets3 in e:\\python 3.8.3\\lib\\site-packages (0.0.11)\n",
      "Requirement already satisfied: pyquery>=1.2.10 in e:\\python 3.8.3\\lib\\site-packages (from GetOldTweets3) (1.4.1)\n",
      "Requirement already satisfied: lxml>=3.5.0 in e:\\python 3.8.3\\lib\\site-packages (from GetOldTweets3) (4.5.2)\n",
      "Requirement already satisfied: cssselect>0.7.9 in e:\\python 3.8.3\\lib\\site-packages (from pyquery>=1.2.10->GetOldTweets3) (1.1.0)\n"
     ]
    }
   ],
   "source": [
    "! pip install GetOldTweets3"
   ]
  },
  {
   "cell_type": "code",
   "execution_count": 2,
   "metadata": {},
   "outputs": [],
   "source": [
    "import re \n",
    "from textblob import TextBlob \n",
    "import GetOldTweets3 as got\n",
    "from matplotlib import pyplot as plt"
   ]
  },
  {
   "cell_type": "code",
   "execution_count": 3,
   "metadata": {},
   "outputs": [],
   "source": [
    "def clean_tweet(tweet): \n",
    "        return ' '.join(re.sub(\"(@[A-Za-z0-9]+)|([^0-9A-Za-z \\t]) |(\\w+:\\/\\/\\S+)\", \" \", tweet).split())"
   ]
  },
  {
   "cell_type": "code",
   "execution_count": null,
   "metadata": {},
   "outputs": [],
   "source": [
    "#Tweets from 01/05/2020 to 15/06/2020"
   ]
  },
  {
   "cell_type": "code",
   "execution_count": 4,
   "metadata": {},
   "outputs": [],
   "source": [
    "tweetCriteria = got.manager.TweetCriteria().setQuerySearch('India China')\\\n",
    "                                           .setSince(\"2020-05-01\")\\\n",
    "                                           .setUntil(\"2020-06-10\")\\\n",
    "                                           .setMaxTweets(100)\n",
    "tweet = got.manager.TweetManager.getTweets(tweetCriteria)"
   ]
  },
  {
   "cell_type": "code",
   "execution_count": 5,
   "metadata": {},
   "outputs": [],
   "source": [
    "def get_tweet_sentiment(tweet): \n",
    "        \n",
    "        analysis = TextBlob(clean_tweet(tweet)) \n",
    "\n",
    "        if analysis.sentiment.polarity > 0: \n",
    "            return 'positive'\n",
    "        elif analysis.sentiment.polarity == 0: \n",
    "            return 'neutral'\n",
    "        else: \n",
    "            return 'negative'"
   ]
  },
  {
   "cell_type": "code",
   "execution_count": 6,
   "metadata": {},
   "outputs": [],
   "source": [
    "tweets=[]\n",
    "for tw in tweet: \n",
    "\n",
    "  parsed_tweet = {}\n",
    "  parsed_tweet['text'] = tw.text \n",
    "  parsed_tweet['sentiment'] =get_tweet_sentiment(tw.text) \n",
    "  if tw.retweets > 0: \n",
    "    if parsed_tweet not in tweets: \n",
    "      tweets.append(parsed_tweet) \n",
    "    else:\n",
    "      tweets.append(parsed_tweet)"
   ]
  },
  {
   "cell_type": "code",
   "execution_count": 7,
   "metadata": {},
   "outputs": [],
   "source": [
    "pive_tweets = [tweet for tweet in tweets if tweet['sentiment'] == 'positive']\n",
    "nive_tweets = [tweet for tweet in tweets if tweet['sentiment'] == 'negative']\n",
    "neutral_tweets=[tweet for tweet in tweets if tweet['sentiment']=='neutral']\n",
    "per_ptweets=len(pive_tweets)/len(tweets)*100\n",
    "per_ntweets=len(nive_tweets)/len(tweets)*100\n",
    "per_neutral=len(neutral_tweets)/len(tweets)*100\n",
    "lab=['Positive','Negative','Neutral']\n",
    "data=[per_ptweets,per_ntweets,per_neutral]"
   ]
  },
  {
   "cell_type": "code",
   "execution_count": 8,
   "metadata": {},
   "outputs": [
    {
     "data": {
      "image/png": "[encoded data removed]",
      "text/plain": [
       "<Figure size 720x504 with 1 Axes>"
      ]
     },
     "metadata": {},
     "output_type": "display_data"
    }
   ],
   "source": [
    "fig = plt.figure(figsize =(10, 7)) \n",
    "plt.pie(data, labels = lab) \n",
    "plt.show()"
   ]
  },
  {
   "cell_type": "code",
   "execution_count": 9,
   "metadata": {},
   "outputs": [],
   "source": [
    "#Tweets from 16/06/2020 to 30/08/2020"
   ]
  },
  {
   "cell_type": "code",
   "execution_count": 10,
   "metadata": {},
   "outputs": [],
   "source": [
    "tweetCriteria = got.manager.TweetCriteria().setQuerySearch('Corona')\\\n",
    "                                           .setSince(\"2020-06-16\")\\\n",
    "                                           .setUntil(\"2020-09-5\")\\\n",
    "                                           .setMaxTweets(100)\n",
    "tweet = got.manager.TweetManager.getTweets(tweetCriteria)"
   ]
  },
  {
   "cell_type": "code",
   "execution_count": 11,
   "metadata": {},
   "outputs": [],
   "source": [
    "tweets=[]\n",
    "for tw in tweet: \n",
    "\n",
    "  parsed_tweet = {}\n",
    "  parsed_tweet['text'] = tw.text \n",
    "  parsed_tweet['sentiment'] =get_tweet_sentiment(tw.text) \n",
    "  if tw.retweets > 0: \n",
    "    if parsed_tweet not in tweets: \n",
    "      tweets.append(parsed_tweet) \n",
    "    else:\n",
    "      tweets.append(parsed_tweet)\n"
   ]
  },
  {
   "cell_type": "code",
   "execution_count": 12,
   "metadata": {},
   "outputs": [],
   "source": [
    "pive_tweets = [tweet for tweet in tweets if tweet['sentiment'] == 'positive']\n",
    "nive_tweets = [tweet for tweet in tweets if tweet['sentiment'] == 'negative']\n",
    "neutral_tweets=[tweet for tweet in tweets if tweet['sentiment']=='neutral']\n",
    "per_ptweets=len(pive_tweets)/len(tweets)*100\n",
    "per_ntweets=len(nive_tweets)/len(tweets)*100\n",
    "per_neutral=len(neutral_tweets)/len(tweets)*100\n",
    "lab=['Positive','Negative','Neutral']\n",
    "data=[per_ptweets,per_ntweets,per_neutral]"
   ]
  },
  {
   "cell_type": "code",
   "execution_count": 13,
   "metadata": {},
   "outputs": [
    {
     "data": {
      "image/png": "[encoded data removed]",
      "text/plain": [
       "<Figure size 720x504 with 1 Axes>"
      ]
     },
     "metadata": {},
     "output_type": "display_data"
    }
   ],
   "source": [
    "fig = plt.figure(figsize =(10, 7)) \n",
    "plt.pie(data, labels = lab) \n",
    "plt.show()"
   ]
  }
 ],
 "metadata": {
  "kernelspec": {
   "display_name": "Python 3",
   "language": "python",
   "name": "python3"
  },
  "language_info": {
   "codemirror_mode": {
    "name": "ipython",
    "version": 3
   },
   "file_extension": ".py",
   "mimetype": "text/x-python",
   "name": "python",
   "nbconvert_exporter": "python",
   "pygments_lexer": "ipython3",
   "version": "3.8.3"
  }
 },
 "nbformat": 4,
 "nbformat_minor": 4
}
